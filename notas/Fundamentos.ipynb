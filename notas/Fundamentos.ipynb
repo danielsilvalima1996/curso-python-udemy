{
 "cells": [
  {
   "cell_type": "code",
   "execution_count": null,
   "metadata": {},
   "outputs": [],
   "source": [
    "1 + 2 + 3 + 4"
   ]
  },
  {
   "cell_type": "code",
   "execution_count": null,
   "metadata": {},
   "outputs": [],
   "source": [
    "2 ** 8\n",
    "3 + 5"
   ]
  },
  {
   "cell_type": "code",
   "execution_count": null,
   "metadata": {},
   "outputs": [],
   "source": [
    "print('teste')"
   ]
  },
  {
   "cell_type": "markdown",
   "metadata": {},
   "source": [
    "# Operadores"
   ]
  },
  {
   "cell_type": "code",
   "execution_count": null,
   "metadata": {},
   "outputs": [],
   "source": [
    "1 + 2"
   ]
  },
  {
   "cell_type": "code",
   "execution_count": null,
   "metadata": {},
   "outputs": [],
   "source": [
    "2 * 4"
   ]
  },
  {
   "cell_type": "code",
   "execution_count": null,
   "metadata": {},
   "outputs": [],
   "source": [
    "3 / 5"
   ]
  },
  {
   "cell_type": "markdown",
   "metadata": {},
   "source": [
    "# Estrutura de controle"
   ]
  },
  {
   "cell_type": "code",
   "execution_count": null,
   "metadata": {},
   "outputs": [],
   "source": [
    "a = 5"
   ]
  },
  {
   "cell_type": "code",
   "execution_count": null,
   "metadata": {},
   "outputs": [],
   "source": [
    "b = 3"
   ]
  },
  {
   "cell_type": "code",
   "execution_count": null,
   "metadata": {},
   "outputs": [],
   "source": [
    "a + b"
   ]
  },
  {
   "cell_type": "code",
   "execution_count": null,
   "metadata": {},
   "outputs": [],
   "source": [
    "_ ** 3"
   ]
  },
  {
   "cell_type": "markdown",
   "metadata": {},
   "source": [
    "# Tipos Básicos"
   ]
  },
  {
   "cell_type": "code",
   "execution_count": null,
   "metadata": {},
   "outputs": [],
   "source": [
    "print(True) #boolean\n",
    "print(False) #boolean\n",
    "print(1.2 + 1) #float\n",
    "print('Aqui eu falo a minha lingua!') #str\n",
    "print(\"Também funciona\") #str\n",
    "print('Você é ' + 3 * 'muito ' + 'legal!')\n",
    "# print(3 + '3') -> ambiguidade / zenofpython\n",
    "print([1,2,3]) #lista / array_js\n",
    "print({'nome': 'Daniel', 'idade': 22}) #Dicionario = chave/valor | objeto_js\n",
    "print(None) # undefined || null"
   ]
  },
  {
   "cell_type": "markdown",
   "metadata": {},
   "source": [
    "# Variáveis"
   ]
  },
  {
   "cell_type": "code",
   "execution_count": null,
   "metadata": {},
   "outputs": [],
   "source": [
    "a = 10\n",
    "b = 5.2\n",
    "\n",
    "print(a + b)\n",
    "\n",
    "a = 'Agora sou uma string!'\n",
    "print(a)\n",
    "\n",
    "# print(a + b)"
   ]
  },
  {
   "cell_type": "markdown",
   "metadata": {},
   "source": [
    "# Comentários"
   ]
  },
  {
   "cell_type": "code",
   "execution_count": null,
   "metadata": {},
   "outputs": [],
   "source": [
    "# minhas variaveis\n",
    "\n",
    "salario = 3450.45\n",
    "despesas = 2456.2\n",
    "\n",
    "'''\n",
    "a ideia é calcular o\n",
    "quanto vai sobra no\n",
    "final do mes\n",
    "'''\n",
    "\n",
    "print(salario - despesas)\n",
    "# print('fim')\n",
    "print('fim de verdade') # comentário aqui também vale\n",
    "\n",
    "# essa é a variável chamada teste\n",
    "teste = True"
   ]
  },
  {
   "cell_type": "markdown",
   "metadata": {},
   "source": [
    "# Operadores Aritméticos"
   ]
  },
  {
   "cell_type": "code",
   "execution_count": null,
   "metadata": {},
   "outputs": [],
   "source": [
    "print(2 + 3)\n",
    "print(4 - 7)\n",
    "print(2 * 5.3)\n",
    "print(9.4 / 3)\n",
    "print(9.4 // 3) # retorna um float inteiro\n",
    "print(2 ** 8)\n",
    "print(10 % 3)\n",
    "\n",
    "a = 12\n",
    "b = a\n",
    "print(a + b)"
   ]
  },
  {
   "cell_type": "code",
   "execution_count": null,
   "metadata": {},
   "outputs": [],
   "source": [
    "# minhas variaveis\n",
    "\n",
    "salario = 3450.45\n",
    "despesas = 2456.2\n",
    "\n",
    "porcentagem = (despesas / salario) * 100\n",
    "print('Suas despesas são' , despesas , 'que é equivalente a'\n",
    "      ,porcentagem, '% do seu salário de' , salario,'.')\n",
    "\n",
    "# Resposta Professor\n",
    "\n",
    "percentual_comprometido = despesas / salario * 100\n",
    "percentual_comprometido"
   ]
  },
  {
   "cell_type": "markdown",
   "metadata": {},
   "source": [
    "# Operadores Relacionais"
   ]
  },
  {
   "cell_type": "code",
   "execution_count": null,
   "metadata": {},
   "outputs": [],
   "source": [
    "3 > 4\n",
    "4 >= 3\n",
    "1 < 2\n",
    "3 <= 1\n",
    "3 != 2\n",
    "3 == 3\n",
    "2 == '3'\n",
    "2 == '2'"
   ]
  },
  {
   "cell_type": "markdown",
   "metadata": {},
   "source": [
    "# Operadores de Atribuição"
   ]
  },
  {
   "cell_type": "code",
   "execution_count": null,
   "metadata": {},
   "outputs": [],
   "source": [
    "a = 3\n",
    "a = a + 7\n",
    "print(a)\n",
    "\n",
    "# a = 5\n",
    "a += 5 # a = a + 5\n",
    "print(a)\n",
    "\n",
    "a -= 3\n",
    "print(a)\n",
    "\n",
    "a *= 2\n",
    "print(a)\n",
    "\n",
    "a /= 4\n",
    "print(a)\n",
    "\n",
    "a %= 4\n",
    "print(a)\n",
    "\n",
    "a **= 8\n",
    "print(a)\n",
    "\n",
    "a //= 256\n",
    "print(a)"
   ]
  },
  {
   "cell_type": "markdown",
   "metadata": {},
   "source": [
    "# Operadores Lógicos"
   ]
  },
  {
   "cell_type": "code",
   "execution_count": null,
   "metadata": {},
   "outputs": [],
   "source": [
    "True or False\n",
    "7 != 3 and 2 > 3\n",
    " \n",
    "# Tabela Verdade do AND\n",
    "True and True\n",
    "True and False\n",
    "False and True\n",
    "False and False\n",
    "\n",
    "# Tabela verdade do OR\n",
    "True or True\n",
    "True or False\n",
    "False or True\n",
    "False or False\n",
    "\n",
    "# Tabela verdade do XOR\n",
    "True != True\n",
    "True != False\n",
    "False != True\n",
    "False != False\n",
    "\n",
    "# Operador de Negação (unário)\n",
    "not True\n",
    "not False\n",
    "\n",
    "not 0\n",
    "not 1 # qualquer número diferente de zero é false\n",
    "not -1\n",
    "not not True\n",
    "\n",
    "# Cuidado -> Operador Bit a Bit, isso é dificil de usar\n",
    "True & True\n",
    "False | False\n",
    "True ^ False\n",
    "\n",
    "# AND bit-a-bit\n",
    "# 3 = 11\n",
    "# 2 = 10\n",
    "# _ = 10\n",
    "3 & 2\n",
    "\n",
    "# OR bit-a-bit\n",
    "# 3 = 11\n",
    "# 2 = 10\n",
    "# _ = 11\n",
    "3 | 2\n",
    "\n",
    "# NOT bit-a-bit\n",
    "# 3 = 11\n",
    "# 2 = 10\n",
    "# _ = 01\n",
    "3 ^ 2\n",
    "\n",
    "# Um pouco de realidade\n",
    "saldo = 1000\n",
    "salario = 4000\n",
    "despesas = 3967\n",
    "\n",
    "saldo_positivo = saldo > 0\n",
    "despesas_controladas = salario - despesas >= 0.2 * salario\n",
    "\n",
    "meta = saldo_positivo and despesas_controladas\n",
    "meta\n",
    "\n",
    "# Desafio operadores Lógicos\n",
    "\n",
    "# Os trabalhos\n",
    "trabalho_terca = True\n",
    "trabalho_quinta = True\n",
    "\"\"\"\n",
    "- Confirmando os 2: TV 50' + Sorvete\n",
    "- Confirmando apenas 1: TV 32' + Sorvete\n",
    "- Nenhum Confirmado: Fica em casa\n",
    "\"\"\"\n",
    "tv_50 = trabalho_terca and trabalho_quinta\n",
    "tv_32 = trabalho_terca != trabalho_quinta #xor\n",
    "sorvete = trabalho_terca or trabalho_quinta\n",
    "mais_saudavel = not sorvete\n",
    "\n",
    "print(\"TV50={} TV32={} Sorvete={} Saudável={}\"\n",
    "     .format(tv_50, tv_32, sorvete, mais_saudavel))\n",
    "\n",
    "\"{2}, {1}, {0}\".format('Daniel', 23, 'M')"
   ]
  },
  {
   "cell_type": "markdown",
   "metadata": {},
   "source": [
    "# Operadores Unários"
   ]
  },
  {
   "cell_type": "code",
   "execution_count": null,
   "metadata": {},
   "outputs": [],
   "source": [
    "a = 3\n",
    "# a++\n",
    "a += 1\n",
    "# a--\n",
    "a -= 1\n",
    "-a\n",
    "a = -a\n",
    "not 0 # true\n",
    "not 1 # false   "
   ]
  },
  {
   "cell_type": "markdown",
   "metadata": {},
   "source": [
    "# Operadores Ternários"
   ]
  },
  {
   "cell_type": "code",
   "execution_count": null,
   "metadata": {},
   "outputs": [],
   "source": [
    "esta_chovendo = True\n",
    "print('Hoje estou com as roupas ' + ('secas.', 'molhadas.')[esta_chovendo]) #False/True\n",
    "\n",
    "print('Hoje estou com as roupas ' + ('molhadas.' if esta_chovendo else 'secas.'))"
   ]
  },
  {
   "cell_type": "markdown",
   "metadata": {},
   "source": [
    "# Mais Operadores"
   ]
  },
  {
   "cell_type": "code",
   "execution_count": null,
   "metadata": {},
   "outputs": [],
   "source": [
    "# Operador de Membro\n",
    "lista = [1,2,3,'Ana','Carla']\n",
    "2 in lista\n",
    "'Ana' not in lista\n",
    "\n",
    "# Operador de Identidade\n",
    "x = 3\n",
    "y = x\n",
    "z = 3\n",
    "\n",
    "x is y\n",
    "y is z\n",
    "x is not z\n",
    "\n",
    "lista_a = [1, 2, 3]\n",
    "lista_b = lista_a\n",
    "lista_c = [1, 2, 3]\n",
    "\n",
    "lista_a is lista_b\n",
    "lista_b is lista_c # tem os mesmos valores, mas apontam para locais diferentes\n",
    "lista_a is not lista_c"
   ]
  },
  {
   "cell_type": "markdown",
   "metadata": {},
   "source": [
    "# Builtins"
   ]
  },
  {
   "cell_type": "code",
   "execution_count": 1,
   "metadata": {},
   "outputs": [
    {
     "data": {
      "text/plain": [
       "['In',\n",
       " 'Out',\n",
       " '_',\n",
       " '__',\n",
       " '___',\n",
       " '__builtin__',\n",
       " '__builtins__',\n",
       " '__doc__',\n",
       " '__loader__',\n",
       " '__name__',\n",
       " '__package__',\n",
       " '__spec__',\n",
       " '_dh',\n",
       " '_i',\n",
       " '_i1',\n",
       " '_ih',\n",
       " '_ii',\n",
       " '_iii',\n",
       " '_oh',\n",
       " 'a',\n",
       " 'exit',\n",
       " 'get_ipython',\n",
       " 'nome',\n",
       " 'quit']"
      ]
     },
     "execution_count": 1,
     "metadata": {},
     "output_type": "execute_result"
    }
   ],
   "source": [
    "# type\n",
    "type(1)\n",
    "__builtins__.type('Fala galera')\n",
    "__builtins__.type(10 / 3)\n",
    "\n",
    "# __builtins__.help(__builtins__.dir)\n",
    "# dir()\n",
    "a = 7\n",
    "# import math\n",
    "# dir()\n",
    "nome = 'João da Silva'\n",
    "len(nome)\n",
    "dir()"
   ]
  },
  {
   "cell_type": "markdown",
   "metadata": {},
   "source": [
    "# Conversão de Tipos"
   ]
  },
  {
   "cell_type": "code",
   "execution_count": 14,
   "metadata": {},
   "outputs": [
    {
     "name": "stdout",
     "output_type": "stream",
     "text": [
      "<class 'int'>\n",
      "<class 'str'>\n",
      "5\n",
      "23\n",
      "5.4\n"
     ]
    }
   ],
   "source": [
    "2 + 3\n",
    "'2' + '3'\n",
    "# 2 + '3'\n",
    "a = 2\n",
    "b = '3'\n",
    "\n",
    "print(type(a))\n",
    "print(type(b))\n",
    "\n",
    "print(a + int(b))\n",
    "print(str(a) + b)\n",
    "\n",
    "type(str(a))\n",
    "\n",
    "print(2 + float('3.4'))"
   ]
  },
  {
   "cell_type": "markdown",
   "metadata": {},
   "source": [
    "# Coerção Automática"
   ]
  },
  {
   "cell_type": "code",
   "execution_count": 27,
   "metadata": {},
   "outputs": [
    {
     "data": {
      "text/plain": [
       "float"
      ]
     },
     "execution_count": 27,
     "metadata": {},
     "output_type": "execute_result"
    }
   ],
   "source": [
    "10 / 2\n",
    "10 / 3\n",
    "10 // 3\n",
    "type(10 // 3)\n",
    "10 // 3.3\n",
    "type(10 // 3.3)\n",
    "10 / 2.5\n",
    "2 + True\n",
    "2 + False\n",
    "type(1 + 2)\n",
    "type(1 + 2.5)"
   ]
  },
  {
   "cell_type": "markdown",
   "metadata": {},
   "source": [
    "# Tipos Numéricos"
   ]
  },
  {
   "cell_type": "code",
   "execution_count": 21,
   "metadata": {},
   "outputs": [
    {
     "data": {
      "text/plain": [
       "3.6"
      ]
     },
     "execution_count": 21,
     "metadata": {},
     "output_type": "execute_result"
    }
   ],
   "source": [
    "dir(int)\n",
    "dir(float)\n",
    "\n",
    "a = 5\n",
    "b = 2.5\n",
    "a / b\n",
    "a + b\n",
    "a * b\n",
    "\n",
    "type(a)\n",
    "type(b)\n",
    "type(a - b)\n",
    "\n",
    "5.0.is_integer()\n",
    "\n",
    "dir(int)\n",
    "int.__add__(2,3)\n",
    "\n",
    "(-2).__abs__()\n",
    "abs(2)\n",
    "\n",
    "type(-2)\n",
    "\n",
    "(-3.6).__abs__()\n",
    "dir(float)\n",
    "abs(-3.6)"
   ]
  },
  {
   "cell_type": "code",
   "execution_count": 30,
   "metadata": {},
   "outputs": [
    {
     "data": {
      "text/plain": [
       "['BasicContext',\n",
       " 'Clamped',\n",
       " 'Context',\n",
       " 'ConversionSyntax',\n",
       " 'Decimal',\n",
       " 'DecimalException',\n",
       " 'DecimalTuple',\n",
       " 'DefaultContext',\n",
       " 'DivisionByZero',\n",
       " 'DivisionImpossible',\n",
       " 'DivisionUndefined',\n",
       " 'ExtendedContext',\n",
       " 'FloatOperation',\n",
       " 'HAVE_THREADS',\n",
       " 'Inexact',\n",
       " 'InvalidContext',\n",
       " 'InvalidOperation',\n",
       " 'MAX_EMAX',\n",
       " 'MAX_PREC',\n",
       " 'MIN_EMIN',\n",
       " 'MIN_ETINY',\n",
       " 'Overflow',\n",
       " 'ROUND_05UP',\n",
       " 'ROUND_CEILING',\n",
       " 'ROUND_DOWN',\n",
       " 'ROUND_FLOOR',\n",
       " 'ROUND_HALF_DOWN',\n",
       " 'ROUND_HALF_EVEN',\n",
       " 'ROUND_HALF_UP',\n",
       " 'ROUND_UP',\n",
       " 'Rounded',\n",
       " 'Subnormal',\n",
       " 'Underflow',\n",
       " '__builtins__',\n",
       " '__cached__',\n",
       " '__doc__',\n",
       " '__file__',\n",
       " '__libmpdec_version__',\n",
       " '__loader__',\n",
       " '__name__',\n",
       " '__package__',\n",
       " '__spec__',\n",
       " '__version__',\n",
       " 'getcontext',\n",
       " 'localcontext',\n",
       " 'setcontext']"
      ]
     },
     "execution_count": 30,
     "metadata": {},
     "output_type": "execute_result"
    }
   ],
   "source": [
    "# 1.1 + 2.2\n",
    "from decimal import Decimal, getcontext\n",
    "Decimal(1) / Decimal(7)\n",
    "\n",
    "getcontext().prec = 4\n",
    "Decimal(1) / Decimal(7)\n",
    "Decimal.max(Decimal(1), Decimal(7))\n",
    "dir(Decimal)\n",
    "Decimal(2.2) + Decimal(1.1)\n",
    "import decimal\n",
    "dir(decimal)"
   ]
  },
  {
   "cell_type": "markdown",
   "metadata": {},
   "source": [
    "# Tipo String"
   ]
  },
  {
   "cell_type": "code",
   "execution_count": 50,
   "metadata": {},
   "outputs": [
    {
     "name": "stdout",
     "output_type": "stream",
     "text": [
      "Texto com múltiplas \n",
      " \t...linhas\n",
      "Texto com múltiplas \n",
      "    ...linhas\n"
     ]
    },
    {
     "data": {
      "text/plain": [
       "'Também é possivel\\n... com 3 aspas simples'"
      ]
     },
     "execution_count": 50,
     "metadata": {},
     "output_type": "execute_result"
    }
   ],
   "source": [
    "dir(str)\n",
    "nome = 'Saulo Pedro'\n",
    "nome\n",
    "nome[0]\n",
    "# nome[0] = 'P'\n",
    "\"Dias D'Avila\" == 'Dias D\\'Avila'\n",
    "texto = 'Texto entre apostrófos pode ter \"aspas\"'\n",
    "texto\n",
    "\"teste \\\" funciona!\"\n",
    "doc = \"\"\"Texto com múltiplas \n",
    "    ...linhas\"\"\"\n",
    "doc\n",
    "print('Texto com múltiplas \\n \\t...linhas')\n",
    "print(doc)\n",
    "\n",
    "doc2 = '''Também é possivel\n",
    "... com 3 aspas simples'''\n",
    "doc2"
   ]
  },
  {
   "cell_type": "code",
   "execution_count": 1,
   "metadata": {},
   "outputs": [
    {
     "data": {
      "text/plain": [
       "'aluaP anA'"
      ]
     },
     "execution_count": 1,
     "metadata": {},
     "output_type": "execute_result"
    }
   ],
   "source": [
    "nome = 'Ana Paula'\n",
    "nome[0]\n",
    "nome[6]\n",
    "nome[-3]\n",
    "nome[4:]\n",
    "nome[-5:]\n",
    "nome[:3] # indice final ignorado\n",
    "nome[:4]\n",
    "nome[2:5]\n",
    "\n",
    "numeros = '1234567890'\n",
    "numeros\n",
    "numeros[::]\n",
    "numeros[::2]\n",
    "numeros[1::2]\n",
    "numeros[::-1]\n",
    "numeros[::-2]\n",
    "\n",
    "nome[::-1]"
   ]
  },
  {
   "cell_type": "code",
   "execution_count": 21,
   "metadata": {},
   "outputs": [
    {
     "name": "stdout",
     "output_type": "stream",
     "text": [
      "Help on method_descriptor:\n",
      "\n",
      "center(self, width, fillchar=' ', /)\n",
      "    Return a centered string of length width.\n",
      "    \n",
      "    Padding is done using the specified fill character (default is a space).\n",
      "\n"
     ]
    }
   ],
   "source": [
    "frase = 'Python é uma linguagem excelente'\n",
    "'py' in frase\n",
    "'ing' in frase\n",
    "'py' not in frase\n",
    "len(frase)\n",
    "frase.lower()\n",
    "'py' not in frase.lower()\n",
    "frase.upper()\n",
    "frase = frase.upper()\n",
    "frase\n",
    "\n",
    "frase.split()\n",
    "frase.split('E')\n",
    "\n",
    "help(str.center)"
   ]
  },
  {
   "cell_type": "code",
   "execution_count": 31,
   "metadata": {},
   "outputs": [
    {
     "data": {
      "text/plain": [
       "True"
      ]
     },
     "execution_count": 31,
     "metadata": {},
     "output_type": "execute_result"
    }
   ],
   "source": [
    "a = '123'\n",
    "b = ' de oliveira 4'\n",
    "a + b\n",
    "a.__add__(b)\n",
    "str.__add__(a, b)\n",
    "\n",
    "dir(str)\n",
    "len(a)\n",
    "a.__len__()\n",
    "'1' in a"
   ]
  },
  {
   "cell_type": "markdown",
   "metadata": {},
   "source": [
    "# Lista"
   ]
  },
  {
   "cell_type": "code",
   "execution_count": 45,
   "metadata": {},
   "outputs": [
    {
     "data": {
      "text/plain": [
       "['Bia', 'Ana', 1]"
      ]
     },
     "execution_count": 45,
     "metadata": {},
     "output_type": "execute_result"
    }
   ],
   "source": [
    "lista = []\n",
    "type(lista)\n",
    "dir(lista)\n",
    "# help(list)\n",
    "len(lista)\n",
    "lista.append(1)\n",
    "lista.append(5)\n",
    "lista\n",
    "len(lista)\n",
    "\n",
    "nova_lista = [1, 5, 'Ana', 'Bia']\n",
    "nova_lista\n",
    "nova_lista.remove(5)\n",
    "nova_lista\n",
    "nova_lista.reverse()\n",
    "nova_lista"
   ]
  },
  {
   "cell_type": "code",
   "execution_count": 58,
   "metadata": {},
   "outputs": [
    {
     "data": {
      "text/plain": [
       "1"
      ]
     },
     "execution_count": 58,
     "metadata": {},
     "output_type": "execute_result"
    }
   ],
   "source": [
    "lista = [1, 5, 'Rebeca', 'Guilherme', 3.1415]\n",
    "lista.index('Guilherme')\n",
    "lista[2]\n",
    "1 in lista\n",
    "'Rebeca' in lista\n",
    "'Pedro' not in lista\n",
    "lista[0]\n",
    "lista[4]\n",
    "# lista[5]\n",
    "lista[-1]\n",
    "lista[-5]"
   ]
  },
  {
   "cell_type": "code",
   "execution_count": 70,
   "metadata": {},
   "outputs": [
    {
     "data": {
      "text/plain": [
       "['Ana']"
      ]
     },
     "execution_count": 70,
     "metadata": {},
     "output_type": "execute_result"
    }
   ],
   "source": [
    "lista = ['Ana', 'Lia', 'Rui', 'Paulo', 'Dani']\n",
    "lista[1:3]\n",
    "lista[1: -1]\n",
    "lista[:-1]\n",
    "lista[::]\n",
    "lista[::2]\n",
    "lista[::-1]\n",
    "del lista[2]\n",
    "lista\n",
    "del lista[1:]\n",
    "lista"
   ]
  },
  {
   "cell_type": "markdown",
   "metadata": {},
   "source": [
    "# Tupla"
   ]
  },
  {
   "cell_type": "code",
   "execution_count": 1,
   "metadata": {},
   "outputs": [
    {
     "data": {
      "text/plain": [
       "3"
      ]
     },
     "execution_count": 1,
     "metadata": {},
     "output_type": "execute_result"
    }
   ],
   "source": [
    "tupla = tuple()\n",
    "tupla = ()\n",
    "type(tupla)\n",
    "dir(tupla)\n",
    "# help(tuple)\n",
    "tupla = ('um',)\n",
    "type(tupla)\n",
    "tupla[0]\n",
    "# tupla[0] = 'novo'\n",
    "cores = ('verde', 'amarelo', 'branco')\n",
    "cores[0]\n",
    "cores[-1]\n",
    "cores[1:]\n",
    "\n",
    "cores.index('amarelo')\n",
    "cores.count('azul')\n",
    "len(cores)"
   ]
  },
  {
   "cell_type": "markdown",
   "metadata": {},
   "source": [
    "# Dicionário"
   ]
  },
  {
   "cell_type": "code",
   "execution_count": 18,
   "metadata": {},
   "outputs": [
    {
     "data": {
      "text/plain": [
       "[]"
      ]
     },
     "execution_count": 18,
     "metadata": {},
     "output_type": "execute_result"
    }
   ],
   "source": [
    "pessoa = {'nome': 'Prof(a). Ana', 'idade': 38, 'cursos': ['Inglês', 'Português']}\n",
    "type(pessoa)\n",
    "dir(dict)\n",
    "len(pessoa)\n",
    "\n",
    "pessoa\n",
    "pessoa['nome']\n",
    "pessoa['idade']\n",
    "pessoa['cursos']\n",
    "pessoa['cursos'][0]\n",
    "pessoa['cursos'][1]\n",
    "pessoa.keys()\n",
    "pessoa.values()\n",
    "pessoa.items()\n",
    "pessoa.get('idade')\n",
    "pessoa.get('tag')\n",
    "pessoa.get('tag', [])"
   ]
  },
  {
   "cell_type": "code",
   "execution_count": 34,
   "metadata": {},
   "outputs": [
    {
     "data": {
      "text/plain": [
       "{}"
      ]
     },
     "execution_count": 34,
     "metadata": {},
     "output_type": "execute_result"
    }
   ],
   "source": [
    "pessoa = {'nome': 'Prof. Alberto', 'idade': 43, 'cursos': ['React', 'Python']}\n",
    "pessoa['idade'] = 44\n",
    "pessoa['cursos'].append('Angular')\n",
    "pessoa\n",
    "pessoa.pop('idade')\n",
    "\n",
    "pessoa\n",
    "pessoa.update({'idade': 40, 'sexo': 'M'})\n",
    "pessoa\n",
    "del pessoa['cursos']\n",
    "pessoa\n",
    "pessoa.clear()\n",
    "pessoa"
   ]
  },
  {
   "cell_type": "markdown",
   "metadata": {},
   "source": [
    "# Conjunto"
   ]
  },
  {
   "cell_type": "code",
   "execution_count": 59,
   "metadata": {},
   "outputs": [
    {
     "name": "stdout",
     "output_type": "stream",
     "text": [
      "{'r', 'c', 'd', '3', 'o'}\n",
      "True True\n"
     ]
    },
    {
     "data": {
      "text/plain": [
       "{1, 3}"
      ]
     },
     "execution_count": 59,
     "metadata": {},
     "output_type": "execute_result"
    }
   ],
   "source": [
    "a = {1, 2, 3}\n",
    "type(a)\n",
    "# a[0]\n",
    "a = set('codddd3r')\n",
    "print(a)\n",
    "print('3' in a, '4' not in a)\n",
    "{1,2,3} == {3,2,1,3}\n",
    "\n",
    "#operações\n",
    "c1 = {1,2}\n",
    "c2 = {2,3}\n",
    "c1.union(c2)\n",
    "c1.intersection(c2)\n",
    "c1.update(c2)\n",
    "c1\n",
    "c2 <= c1\n",
    "c1 >= c2\n",
    "\n",
    "{1,2,3} - {2,3}\n",
    "\n",
    "c1 - c2\n",
    "c1 -= {2}\n",
    "c1"
   ]
  },
  {
   "cell_type": "markdown",
   "metadata": {},
   "source": [
    "# Interpolação"
   ]
  },
  {
   "cell_type": "code",
   "execution_count": 74,
   "metadata": {},
   "outputs": [
    {
     "name": "stdout",
     "output_type": "stream",
     "text": [
      "Nome: Ana, Idade: 30.00 1 False True\n",
      "Nome: Ana, idade: 30\n",
      "Nome: Ana, Idade: 30 257\n",
      "Nome: Ana, Idade: 30\n"
     ]
    }
   ],
   "source": [
    "from string import Template\n",
    "\n",
    "nome, idade = 'Ana', 30\n",
    "\n",
    "print('Nome: %s, Idade: %.2f %d %r %s' % (nome, idade, True, False, True)) #mais antiga\n",
    "print('Nome: {0}, idade: {1}'.format(nome, idade)) #python <= 3.6\n",
    "print(f'Nome: {nome}, Idade: {idade} {2 ** 8 + 1}') #python >= 3.6\n",
    "\n",
    "s = Template('Nome: $n, Idade: $i')\n",
    "print(s.substitute(n=nome, i=idade))"
   ]
  }
 ],
 "metadata": {
  "kernelspec": {
   "display_name": "Python 3",
   "language": "python",
   "name": "python3"
  },
  "language_info": {
   "codemirror_mode": {
    "name": "ipython",
    "version": 3
   },
   "file_extension": ".py",
   "mimetype": "text/x-python",
   "name": "python",
   "nbconvert_exporter": "python",
   "pygments_lexer": "ipython3",
   "version": "3.7.4"
  }
 },
 "nbformat": 4,
 "nbformat_minor": 2
}
